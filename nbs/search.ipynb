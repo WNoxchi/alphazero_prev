{
 "cells": [
  {
   "cell_type": "code",
   "execution_count": null,
   "metadata": {},
   "outputs": [],
   "source": [
    "#|default_exp search"
   ]
  },
  {
   "cell_type": "markdown",
   "metadata": {},
   "source": [
    "# Search Module"
   ]
  },
  {
   "cell_type": "code",
   "execution_count": null,
   "metadata": {},
   "outputs": [],
   "source": [
    "#hide\n",
    "from nbdev.showdoc import *"
   ]
  },
  {
   "cell_type": "markdown",
   "metadata": {},
   "source": [
    "## MCTS"
   ]
  },
  {
   "cell_type": "code",
   "execution_count": null,
   "metadata": {},
   "outputs": [],
   "source": [
    "#|export\n",
    "import numpy as np"
   ]
  },
  {
   "cell_type": "code",
   "execution_count": null,
   "metadata": {},
   "outputs": [],
   "source": [
    "import igraph\n",
    "import alphazero.display"
   ]
  },
  {
   "cell_type": "code",
   "execution_count": null,
   "metadata": {},
   "outputs": [],
   "source": [
    "#|export\n",
    "class MCTSNode():\n",
    "    def __init__(self, state, action_probs, valid_actions, branches, value, is_endstate, parent_index, index):\n",
    "        self.action_probs = action_probs\n",
    "        self.valid_actions = valid_actions\n",
    "        self.branches = branches\n",
    "        self.visits = 0\n",
    "        self.value = value\n",
    "        self.path_value = value\n",
    "        self.is_endstate = is_endstate\n",
    "        self.parent_index = parent_index\n",
    "        self.index = index"
   ]
  },
  {
   "cell_type": "code",
   "execution_count": null,
   "metadata": {},
   "outputs": [],
   "source": [
    "#|export\n",
    "rng = np.random.default_rng()\n",
    "\n",
    "state_size=10\n",
    "n_actions = 4\n",
    "n_sims = 100\n",
    "root_idx = 0\n",
    "tree = {'counter':root_idx+1}\n",
    "\n",
    "# initialize the root node of the search tree\n",
    "tree[root_idx] = MCTSNode(state=rng.integers(0,n_actions, size=(state_size,state_size)),\n",
    "                         action_probs=rng.random(size=n_actions),\n",
    "                         valid_actions=rng.integers(0, 2, size=n_actions),\n",
    "                         branches=[tree['counter']+i for i in range(n_actions)],\n",
    "                         value=rng.random(),\n",
    "                         is_endstate=False,\n",
    "                         parent_index=None,\n",
    "                         index=0)\n",
    "tree['counter'] += n_actions\n"
   ]
  },
  {
   "cell_type": "code",
   "execution_count": null,
   "metadata": {},
   "outputs": [],
   "source": [
    "#|export\n",
    "# sample simulation\n",
    "for i in range(10):\n",
    "    # reset to root node on sim start\n",
    "    select_idx = parent_idx = root_idx\n",
    "    value = 0.0\n",
    "    \n",
    "    # loop until find end or new state\n",
    "    while tree.get(select_idx, None) is not None and not tree[select_idx].is_endstate:\n",
    "        # select branch\n",
    "        # parent idx keeps track of current node iot to specify a selected nodes parent on creation\n",
    "        parent_idx = select_idx\n",
    "        select_idx = rng.choice(tree[select_idx].branches)\n",
    "\n",
    "    # if new state: expand tree\n",
    "    if not tree.get(select_idx, None):\n",
    "        tree[select_idx] = MCTSNode(state=rng.integers(0,n_actions, size=(state_size,state_size)),\n",
    "                                    action_probs=rng.random(size=n_actions),\n",
    "                                    valid_actions=rng.integers(0, 2, size=n_actions),\n",
    "                                    branches=[tree['counter']+i for i in range(n_actions)],\n",
    "                                    value=rng.random(),\n",
    "                                    is_endstate=False,\n",
    "                                    parent_index=parent_idx,\n",
    "                                    index=select_idx)\n",
    "        tree['counter'] += n_actions\n",
    "\n",
    "    # in all cases: propagate value back down path to root\n",
    "    value = tree[select_idx].value\n",
    "    while parent_idx is not None:\n",
    "        tree[parent_idx].path_value += value\n",
    "        select_idx = parent_idx\n",
    "        parent_idx = tree[select_idx].parent_index\n"
   ]
  },
  {
   "cell_type": "code",
   "execution_count": null,
   "metadata": {},
   "outputs": [],
   "source": [
    "#|hide\n",
    "# tests TODO\n",
    "\n",
    "# tree index counter increases by correct amount on each expansion"
   ]
  },
  {
   "cell_type": "code",
   "execution_count": null,
   "metadata": {},
   "outputs": [],
   "source": [
    "#|hide\n",
    "# def create_node(state:np.ndarray,\n",
    "#                 action_probs:np.ndarray,\n",
    "#                 valid_actions,\n",
    "#                 branches,\n",
    "#                 visits:int=1,\n",
    "#                 value:float=0.0,\n",
    "#                 end:bool=False,\n",
    "#                 parent_index:int=-1,\n",
    "#                 index:int=-1):\n",
    "    \n",
    "#     return {'state':state,\n",
    "#             'action_probls':action_probs,\n",
    "#             'valid_actions':valid_actions,\n",
    "#             'branches':branches,\n",
    "#             'visits':visits,\n",
    "#             'value':value,\n",
    "#             'end':end,\n",
    "#             'parent_index':parent_index,\n",
    "#             'index':index}\n",
    "\n",
    "# def create_random_node(state_size=4, n_actions=1, index=0, counter=0, parent_index=-1, end=False):\n",
    "#     return create_node(state=rng.integers(0,n_actions, size=(state_size,state_size)),\n",
    "#                        action_probs=rng.random(size=n_actions),\n",
    "#                        valid_actions=rng.integers(0,2, size=n_actions),\n",
    "#                        branches=[counter+i for i in range(n_actions)],\n",
    "#                        value=rng.random(),\n",
    "#                        end=False,\n",
    "#                        parent_index=parent_index,\n",
    "#                        index=index)"
   ]
  },
  {
   "cell_type": "code",
   "execution_count": null,
   "metadata": {},
   "outputs": [],
   "source": [
    "#|hide\n",
    "# %%time\n",
    "\n",
    "# n_sims = 100\n",
    "# n_actions = 4\n",
    "\n",
    "# tree = {}\n",
    "# counter = 1 # keeps track of tree's next node index (equal to total nodes added)\n",
    "# root_idx = 0 # keeps track of tree root (tree.root)\n",
    "# graph_vis = igraph.Graph() # used for visualization\n",
    "\n",
    "# # add node (tree.add_node)\n",
    "# index = 0\n",
    "# tree[index] = create_random_node(n_actions=n_actions, index=index, counter=counter)\n",
    "# counter += n_actions\n",
    "# graph_vis.add_vertex(index)\n",
    "# print(list(graph_vis.vs))\n",
    "# for i in tree[0]['branches']:\n",
    "#     tree[i] = None\n",
    "#     # graph_vis.add_vertex(i)\n",
    "#     # graph_vis.add_edge(index, i)\n",
    "\n",
    "# # simulations (tree.simulate)\n",
    "# for i in range(n_sims):\n",
    "#     # select action\n",
    "#     select_idx = rng.choice(tree[index]['branches'])\n",
    "\n",
    "#     # repeat until new or end state reached\n",
    "#     while tree[select_idx] is not None:\n",
    "#         index = select_idx\n",
    "#         tree[index]['visits'] += 1\n",
    "\n",
    "#         # end state found\n",
    "#         if tree[index]['end']:\n",
    "#             break\n",
    "\n",
    "#         # select next node\n",
    "#         select_idx = rng.choice(tree[index]['branches'])\n",
    "\n",
    "#     # create new node (tree.add_node)\n",
    "#     if tree[select_idx] is None:\n",
    "#         parent = index\n",
    "#         index = select_idx\n",
    "#         tree[index] = create_random_node(n_actions=n_actions, index=index, counter=counter, parent_index=parent)\n",
    "#         counter += n_actions\n",
    "#         for i in tree[index]['branches']:\n",
    "#             tree[i] = None\n",
    "#             # graph_vis.add_vertex(i)\n",
    "#             # graph_vis.add_edge(index, i)\n",
    "       \n",
    "#         graph_vis.add_vertex(select_idx)\n",
    "#         print(select_idx)\n",
    "#         print(list(graph_vis.vs))\n",
    "#         graph_vis.add_edge(parent, select_idx)\n",
    "\n",
    "#     # update path values\n",
    "#     value = tree[index]['value']\n",
    "#     visits = tree[index]['visits']\n",
    "#     while index != root_idx:\n",
    "#         index = tree[index]['parent_index']\n",
    "#         tree[index]['value'] += value\n",
    "#         value = tree[index]['value']\n",
    "    \n"
   ]
  },
  {
   "cell_type": "code",
   "execution_count": null,
   "metadata": {},
   "outputs": [],
   "source": [
    "# alphazero.display.plot_tree(graph_vis, ['rt_circular','rt','tree','drl'][1])"
   ]
  },
  {
   "cell_type": "code",
   "execution_count": null,
   "metadata": {},
   "outputs": [],
   "source": []
  }
 ],
 "metadata": {
  "kernelspec": {
   "display_name": "Python 3.9.10 ('base')",
   "language": "python",
   "name": "python3"
  }
 },
 "nbformat": 4,
 "nbformat_minor": 2
}
