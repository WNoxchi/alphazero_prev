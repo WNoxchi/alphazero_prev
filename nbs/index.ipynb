{
 "cells": [
  {
   "cell_type": "code",
   "execution_count": null,
   "metadata": {},
   "outputs": [],
   "source": [
    "#hide\n",
    "from alphazero.core import *"
   ]
  },
  {
   "cell_type": "markdown",
   "metadata": {},
   "source": [
    "# AlphaZero"
   ]
  },
  {
   "cell_type": "markdown",
   "metadata": {},
   "source": [
    "An experimental reimplementation of [AlphaZero](https://en.wikipedia.org/wiki/AlphaZero). Meant as a proof of concept for decision aid systems.\n",
    "\n",
    "This project uses the [NBDev](https://github.com/fastai/nbdev/tree/master/) development library."
   ]
  },
  {
   "cell_type": "markdown",
   "metadata": {},
   "source": [
    "Before contributing changes, run the following to remove excess cell metadata:\n",
    "\n",
    "```\n",
    "nbdev_install_git_hooks\n",
    "nbdev_clean_nbs\n",
    "```\n",
    "\n",
    "\n",
    "To preview changes to documentation locally run:\n",
    "\n",
    "```\n",
    "nbdev_build_lib\n",
    "nbdev_build_docs\n",
    "make docs_serve\n",
    "```\n",
    "\n",
    "If you encounter a Jekyll error when building the documentation site, and see 'webrick' mentioned in the log, move to the `docs/` folder and run: `bundle add webrick`."
   ]
  },
  {
   "cell_type": "markdown",
   "metadata": {},
   "source": [
    " "
   ]
  }
 ],
 "metadata": {
  "kernelspec": {
   "display_name": "Python 3.8.9 64-bit",
   "language": "python",
   "name": "python3"
  }
 },
 "nbformat": 4,
 "nbformat_minor": 2
}
