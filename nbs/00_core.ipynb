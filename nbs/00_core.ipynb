{
 "cells": [
  {
   "cell_type": "code",
   "execution_count": null,
   "metadata": {},
   "outputs": [],
   "source": [
    "# default_exp core"
   ]
  },
  {
   "cell_type": "markdown",
   "metadata": {},
   "source": [
    "# AlphaZero starter template"
   ]
  },
  {
   "cell_type": "code",
   "execution_count": null,
   "metadata": {},
   "outputs": [],
   "source": [
    "#hide\n",
    "from nbdev.showdoc import *"
   ]
  },
  {
   "cell_type": "markdown",
   "metadata": {},
   "source": [
    "# MCTS"
   ]
  },
  {
   "cell_type": "code",
   "execution_count": null,
   "metadata": {},
   "outputs": [],
   "source": [
    "import numpy as np"
   ]
  },
  {
   "cell_type": "code",
   "execution_count": null,
   "metadata": {},
   "outputs": [],
   "source": [
    "import networkx as nx"
   ]
  },
  {
   "cell_type": "code",
   "execution_count": null,
   "metadata": {},
   "outputs": [],
   "source": [
    "rng = np.random.default_rng()"
   ]
  },
  {
   "cell_type": "markdown",
   "metadata": {},
   "source": [
    "## Overview"
   ]
  },
  {
   "cell_type": "code",
   "execution_count": null,
   "metadata": {},
   "outputs": [],
   "source": [
    "# placeholder model\n",
    "def model(state, action, n=3):\n",
    "    actions = rng.random(n)\n",
    "    actions /= sum(actions)\n",
    "    return actions"
   ]
  },
  {
   "cell_type": "markdown",
   "metadata": {},
   "source": [
    "`MCTree`: the search tree containing all nodes, queried by `MCTS`. Pruned after each turn to save space."
   ]
  },
  {
   "cell_type": "code",
   "execution_count": null,
   "metadata": {},
   "outputs": [],
   "source": [
    "class MCTree():\n",
    "    def __init__(self):\n",
    "        ..."
   ]
  },
  {
   "cell_type": "markdown",
   "metadata": {},
   "source": [
    "`MCTS`: search algorithm. Responsible for running simulations, selecting the next action, and maintaining the search tree."
   ]
  },
  {
   "cell_type": "code",
   "execution_count": null,
   "metadata": {},
   "outputs": [],
   "source": [
    "# class MCTS():\n",
    "#     def __init__(self, n_sims, c_puct=1.0, noise_alpha=0.03, noise_epsilon=0.25):\n",
    "#         self.n_sims = n_sims\n",
    "#         self.c_puct = c_puct\n",
    "#         self.noise_alpha = noise_alpha\n",
    "#         self.noise_epsilon = noise_epsilon\n",
    "\n",
    "\n",
    "#     def simulate(self, node):\n",
    "#         \"\"\"Runs one simulation.\"\"\"\n",
    "#         action_idx = self.sim_select(node.actions)\n",
    "#         if node.actions[action_idx] is None:\n",
    "#             new_state = compute_state(action_idx, node.valid_actions)\n",
    "            \n",
    "            \n",
    "\n",
    "#     def sim_select(actions):\n",
    "#         \"\"\"Selects an action to simulate.\"\"\"\n",
    "#         return np.argmax(actions)"
   ]
  },
  {
   "cell_type": "markdown",
   "metadata": {},
   "source": [
    "### Building the Search Tree"
   ]
  },
  {
   "cell_type": "markdown",
   "metadata": {},
   "source": [
    "Creating a node"
   ]
  },
  {
   "cell_type": "code",
   "execution_count": null,
   "metadata": {},
   "outputs": [],
   "source": [
    "def create_node(state: np.ndarray, action_probs: np.ndarray, valid_actions: np.ndarray, value: float = 0.0, branch_nodes=None, parent=None, index=0):\n",
    "    node = {'state':state, 'action_probs':action_probs, 'valid_actions':valid_actions, 'visits':1, 'value':value, \n",
    "            'branch_nodes':[None]*len(action_probs), 'parent':parent, 'index':index}\n",
    "    return node\n"
   ]
  },
  {
   "cell_type": "code",
   "execution_count": null,
   "metadata": {},
   "outputs": [],
   "source": [
    "def create_random_node(parent=None, index=0):\n",
    "    state = rng.integers(0,2,(4,4))\n",
    "    action_probs = rng.random(4)\n",
    "    valid_actions = rng.integers(0,2,4)\n",
    "    value = rng.random()\n",
    "    return create_node(state, action_probs, valid_actions, value=value, branch_nodes=[None]*5, parent=None, index=index)"
   ]
  },
  {
   "cell_type": "markdown",
   "metadata": {},
   "source": [
    "Initializing the search tree and add a branch"
   ]
  },
  {
   "cell_type": "code",
   "execution_count": null,
   "metadata": {},
   "outputs": [],
   "source": [
    "root = create_random_node()"
   ]
  },
  {
   "cell_type": "code",
   "execution_count": null,
   "metadata": {},
   "outputs": [
    {
     "name": "stdout",
     "output_type": "stream",
     "text": [
      "[None, None, None, None]\n",
      "[None, None, None, {'state': array([[1, 0, 0, 0],\n",
      "       [1, 1, 0, 0],\n",
      "       [1, 1, 1, 0],\n",
      "       [1, 1, 0, 0]]), 'action_probs': array([0.91549324, 0.44001843, 0.56928253, 0.64673887]), 'valid_actions': array([1, 0, 0, 1]), 'visits': 1, 'value': 0.38382272830587105, 'branch_nodes': [None, None, None, None], 'parent': None, 'index': 0}]\n"
     ]
    }
   ],
   "source": [
    "current_node = root\n",
    "\n",
    "select_idx = 3\n",
    "\n",
    "if current_node['branch_nodes'][select_idx] is None:\n",
    "    print(current_node['branch_nodes'])\n",
    "    current_node['branch_nodes'][select_idx] = create_random_node()\n",
    "    print(current_node['branch_nodes'])\n",
    "\n",
    "else:\n",
    "    current_node = current_node['branch_nodes'][select_idx]"
   ]
  },
  {
   "cell_type": "markdown",
   "metadata": {},
   "source": [
    "#### Random Simulation: create new nodes on new"
   ]
  },
  {
   "cell_type": "code",
   "execution_count": null,
   "metadata": {},
   "outputs": [
    {
     "name": "stdout",
     "output_type": "stream",
     "text": [
      "CPU times: user 33 ms, sys: 4.07 ms, total: 37.1 ms\n",
      "Wall time: 34.6 ms\n"
     ]
    }
   ],
   "source": [
    "%%time\n",
    "\n",
    "# import igraph\n",
    "\n",
    "sims = 2000 # each sim ends by creating a new node\n",
    "root = create_random_node()\n",
    "n_actions = 4\n",
    "n_nodes=0\n",
    "\n",
    "# graphing lib\n",
    "# graph = igraph.Graph()\n",
    "# graph.add_vertex(n_nodes)\n",
    "\n",
    "n_nodes += 1\n",
    "\n",
    "# run a simulation\n",
    "for i in range(sims):\n",
    "    node = root\n",
    "    select_idx = rng.integers(0, n_actions)\n",
    "    \n",
    "    # explore the search tree until new state found\n",
    "    while node['branch_nodes'][select_idx] is not None:\n",
    "        node = node['branch_nodes'][select_idx]\n",
    "        node['visits'] += 1\n",
    "        # select next node\n",
    "        select_idx = rng.integers(0, n_actions)\n",
    "\n",
    "    # create new node when new state found    \n",
    "    # graphing lib\n",
    "    # graph.add_vertex(n_nodes)\n",
    "    # graph.add_edge(node['index'], n_nodes)\n",
    "\n",
    "    node['branch_nodes'][select_idx] = create_random_node(parent=node, index=n_nodes)\n",
    "    node = node['branch_nodes'][select_idx]\n",
    "    n_nodes += 1\n",
    "\n",
    "    # update values of all nodes on current path\n",
    "    parent = node['parent']\n",
    "    while parent is not None:\n",
    "        value = node['value']\n",
    "        node = parent\n",
    "        node['value'] += value\n",
    "\n",
    "\n"
   ]
  },
  {
   "cell_type": "markdown",
   "metadata": {},
   "source": [
    "#### Visualize Search Tree\n"
   ]
  },
  {
   "cell_type": "code",
   "execution_count": null,
   "metadata": {},
   "outputs": [
    {
     "data": {
      "application/vnd.plotly.v1+json": {
       "config": {
        "linkText": "Export to plot.ly",
        "plotlyServerURL": "https://plot.ly",
        "showLink": false
       },
       "data": [
        {
         "hoverinfo": "none",
         "line": {
          "color": "rgb(210,210,210)",
          "width": 1
         },
         "mode": "lines",
         "type": "scatter",
         "x": [
          0,
          -35.10807291666667,
          null,
          0,
          -12.290364583333336,
          null,
          -12.290364583333336,
          -20.399739583333336,
          null,
          0,
          12.21484375,
          null,
          -35.10807291666667,
          -44.274739583333336,
          null,
          -35.10807291666667,
          -38.19140625,
          null,
          -44.274739583333336,
          -45.94140625,
          null,
          12.21484375,
          4.30859375,
          null,
          12.21484375,
          10.55859375,
          null,
          0,
          35.18359375,
          null,
          4.30859375,
          0.55859375,
          null,
          -12.290364583333336,
          -15.066406250000004,
          null,
          12.21484375,
          14.68359375,
          null,
          35.18359375,
          24.55859375,
          null,
          35.18359375,
          32.68359375,
          null,
          35.18359375,
          37.68359375,
          null,
          -35.10807291666667,
          -32.19140625,
          null,
          -44.274739583333336,
          -43.94140625,
          null,
          14.68359375,
          12.55859375,
          null,
          -12.290364583333336,
          -9.628906250000004,
          null,
          -45.94140625,
          -46.94140625,
          null,
          37.68359375,
          35.55859375,
          null,
          -46.94140625,
          -46.94140625,
          null,
          24.55859375,
          22.05859375,
          null,
          -20.399739583333336,
          -23.441406250000004,
          null,
          -9.628906250000004,
          -11.691406250000004,
          null,
          -35.10807291666667,
          -25.774739583333336,
          null,
          -38.19140625,
          -41.94140625,
          null,
          -12.290364583333336,
          -4.0664062500000036,
          null,
          35.18359375,
          45.80859375,
          null,
          24.55859375,
          24.55859375,
          null,
          -32.19140625,
          -34.44140625,
          null,
          14.68359375,
          14.05859375,
          null,
          4.30859375,
          3.55859375,
          null,
          -15.066406250000004,
          -16.941406250000004,
          null,
          -9.628906250000004,
          -9.941406250000004,
          null,
          -25.774739583333336,
          -27.441406250000004,
          null,
          0.55859375,
          0.05859375,
          null,
          -15.066406250000004,
          -15.441406250000004,
          null,
          14.68359375,
          15.55859375,
          null,
          -4.0664062500000036,
          -6.9414062500000036,
          null,
          35.55859375,
          35.55859375,
          null,
          -4.0664062500000036,
          -5.4414062500000036,
          null,
          -9.628906250000004,
          -8.941406250000004,
          null,
          10.55859375,
          9.55859375,
          null,
          12.21484375,
          19.30859375,
          null,
          32.68359375,
          30.05859375,
          null,
          24.55859375,
          27.05859375,
          null,
          27.05859375,
          26.55859375,
          null,
          45.80859375,
          41.55859375,
          null,
          -38.19140625,
          -38.94140625,
          null,
          9.55859375,
          9.55859375,
          null,
          -41.94140625,
          -42.94140625,
          null,
          -4.0664062500000036,
          -2.9414062500000036,
          null,
          -27.441406250000004,
          -28.441406250000004,
          null,
          45.80859375,
          45.05859375,
          null,
          45.05859375,
          43.55859375,
          null,
          -15.441406250000004,
          -15.941406250000004,
          null,
          -38.19140625,
          -36.44140625,
          null,
          15.55859375,
          15.55859375,
          null,
          22.05859375,
          21.55859375,
          null,
          -25.774739583333336,
          -25.441406250000004,
          null,
          -20.399739583333336,
          -21.274739583333336,
          null,
          30.05859375,
          28.55859375,
          null,
          -16.941406250000004,
          -16.941406250000004,
          null,
          41.55859375,
          40.55859375,
          null,
          32.68359375,
          32.55859375,
          null,
          -42.94140625,
          -42.94140625,
          null,
          41.55859375,
          41.55859375,
          null,
          -36.44140625,
          -36.94140625,
          null,
          -15.066406250000004,
          -14.441406250000004,
          null,
          -11.691406250000004,
          -12.441406250000004,
          null,
          -23.441406250000004,
          -23.441406250000004,
          null,
          -5.4414062500000036,
          -5.9414062500000036,
          null,
          -38.94140625,
          -39.94140625,
          null,
          -15.066406250000004,
          -13.441406250000004,
          null,
          14.05859375,
          13.55859375,
          null,
          4.30859375,
          5.55859375,
          null,
          12.55859375,
          12.55859375,
          null,
          -21.274739583333336,
          -22.441406250000004,
          null,
          -25.774739583333336,
          -24.441406250000004,
          null,
          -32.19140625,
          -32.94140625,
          null,
          14.68359375,
          16.55859375,
          null,
          19.30859375,
          17.55859375,
          null,
          45.80859375,
          47.55859375,
          null,
          4.30859375,
          7.55859375,
          null,
          32.55859375,
          32.55859375,
          null,
          -4.0664062500000036,
          -0.9414062500000036,
          null,
          45.05859375,
          44.55859375,
          null,
          7.55859375,
          6.55859375,
          null,
          -2.9414062500000036,
          -3.9414062500000036,
          null,
          37.68359375,
          37.05859375,
          null,
          -9.941406250000004,
          -9.941406250000004,
          null,
          -43.94140625,
          -43.94140625,
          null,
          -27.441406250000004,
          -27.441406250000004,
          null,
          -12.441406250000004,
          -12.941406250000004,
          null,
          7.55859375,
          7.55859375,
          null,
          37.68359375,
          38.55859375,
          null,
          -32.19140625,
          -31.44140625,
          null,
          16.55859375,
          16.55859375,
          null,
          19.30859375,
          18.55859375,
          null,
          -31.44140625,
          -31.44140625,
          null,
          -39.94140625,
          -39.94140625,
          null,
          -24.441406250000004,
          -24.441406250000004,
          null,
          -21.274739583333336,
          -21.441406250000004,
          null,
          -38.94140625,
          -38.94140625,
          null,
          0.55859375,
          1.05859375,
          null,
          37.05859375,
          36.55859375,
          null,
          -21.274739583333336,
          -19.941406250000004,
          null,
          10.55859375,
          10.55859375,
          null,
          -41.94140625,
          -41.94140625,
          null,
          45.80859375,
          49.05859375,
          null,
          21.55859375,
          21.55859375,
          null,
          17.55859375,
          17.55859375,
          null,
          45.05859375,
          45.55859375,
          null,
          -9.628906250000004,
          -7.9414062500000036,
          null,
          -6.9414062500000036,
          -6.9414062500000036,
          null,
          -45.94140625,
          -45.94140625,
          null,
          -32.94140625,
          -33.44140625,
          null,
          49.05859375,
          48.55859375,
          null,
          24.55859375,
          23.55859375,
          null,
          10.55859375,
          10.55859375,
          null,
          -44.274739583333336,
          -42.94140625,
          null,
          22.05859375,
          22.55859375,
          null,
          1.05859375,
          1.05859375,
          null,
          18.55859375,
          18.55859375,
          null,
          -34.44140625,
          -34.44140625,
          null,
          -0.9414062500000036,
          -0.9414062500000036,
          null,
          30.05859375,
          29.55859375,
          null,
          45.05859375,
          46.55859375,
          null,
          -20.399739583333336,
          -18.941406250000004,
          null,
          -21.441406250000004,
          -21.941406250000004,
          null,
          -8.941406250000004,
          -8.941406250000004,
          null,
          -15.441406250000004,
          -14.941406250000004,
          null,
          -25.441406250000004,
          -25.441406250000004,
          null,
          -38.94140625,
          -38.94140625,
          null,
          41.55859375,
          42.55859375,
          null,
          -23.441406250000004,
          -23.441406250000004,
          null,
          -32.94140625,
          -32.44140625,
          null,
          7.55859375,
          8.55859375,
          null,
          -45.94140625,
          -45.94140625,
          null,
          0.05859375,
          0.05859375,
          null,
          -32.19140625,
          -29.94140625,
          null,
          37.68359375,
          39.55859375,
          null,
          3.55859375,
          2.55859375,
          null,
          -12.441406250000004,
          -11.941406250000004,
          null,
          -38.94140625,
          -37.94140625,
          null,
          -29.94140625,
          -30.44140625,
          null,
          10.55859375,
          11.55859375,
          null,
          47.55859375,
          47.55859375,
          null,
          41.55859375,
          41.55859375,
          null,
          -38.19140625,
          -35.44140625,
          null,
          -19.941406250000004,
          -19.941406250000004,
          null,
          3.55859375,
          3.55859375,
          null,
          -27.441406250000004,
          -26.441406250000004,
          null,
          30.05859375,
          30.55859375,
          null,
          3.55859375,
          4.55859375,
          null,
          39.55859375,
          39.55859375,
          null,
          30.05859375,
          31.55859375,
          null,
          -11.691406250000004,
          -10.941406250000004,
          null,
          19.30859375,
          20.05859375,
          null,
          5.55859375,
          5.55859375,
          null,
          -42.94140625,
          -42.94140625,
          null,
          -6.9414062500000036,
          -6.9414062500000036,
          null,
          23.55859375,
          23.55859375,
          null,
          20.05859375,
          19.55859375,
          null,
          -41.94140625,
          -40.94140625,
          null,
          32.68359375,
          33.55859375,
          null,
          21.55859375,
          21.55859375,
          null,
          38.55859375,
          38.55859375,
          null,
          32.68359375,
          34.55859375,
          null,
          -2.9414062500000036,
          -2.9414062500000036,
          null,
          -7.9414062500000036,
          -7.9414062500000036,
          null,
          -45.94140625,
          -44.94140625,
          null,
          2.55859375,
          2.05859375,
          null,
          2.55859375,
          3.05859375,
          null,
          27.05859375,
          27.55859375,
          null,
          -13.441406250000004,
          -13.441406250000004,
          null,
          49.05859375,
          49.55859375,
          null,
          -20.399739583333336,
          -17.941406250000004,
          null,
          -18.941406250000004,
          -18.941406250000004,
          null,
          14.05859375,
          14.55859375,
          null,
          44.55859375,
          44.55859375,
          null,
          -2.9414062500000036,
          -1.9414062500000036,
          null,
          -36.44140625,
          -35.94140625,
          null,
          -29.94140625,
          -29.44140625,
          null,
          34.55859375,
          34.55859375,
          null,
          -3.9414062500000036,
          -3.9414062500000036,
          null,
          20.05859375,
          20.55859375,
          null,
          37.05859375,
          37.55859375,
          null,
          6.55859375,
          6.55859375,
          null,
          -21.441406250000004,
          -20.941406250000004,
          null,
          -10.941406250000004,
          -10.941406250000004,
          null,
          24.55859375,
          24.55859375,
          null,
          24.55859375,
          25.55859375,
          null,
          19.30859375,
          21.05859375,
          null,
          -37.94140625,
          -37.94140625,
          null,
          33.55859375,
          33.55859375,
          null,
          -34.44140625,
          -34.44140625,
          null,
          -5.4414062500000036,
          -4.9414062500000036,
          null
         ],
         "y": [
          0,
          1,
          null,
          0,
          1,
          null,
          1,
          2,
          null,
          0,
          1,
          null,
          1,
          2,
          null,
          1,
          2,
          null,
          2,
          3,
          null,
          1,
          2,
          null,
          1,
          2,
          null,
          0,
          1,
          null,
          2,
          3,
          null,
          1,
          2,
          null,
          1,
          2,
          null,
          1,
          2,
          null,
          1,
          2,
          null,
          1,
          2,
          null,
          1,
          2,
          null,
          2,
          3,
          null,
          2,
          3,
          null,
          1,
          2,
          null,
          3,
          4,
          null,
          2,
          3,
          null,
          4,
          5,
          null,
          2,
          3,
          null,
          2,
          3,
          null,
          2,
          3,
          null,
          1,
          2,
          null,
          2,
          3,
          null,
          1,
          2,
          null,
          1,
          2,
          null,
          2,
          3,
          null,
          2,
          3,
          null,
          2,
          3,
          null,
          2,
          3,
          null,
          2,
          3,
          null,
          2,
          3,
          null,
          2,
          3,
          null,
          3,
          4,
          null,
          2,
          3,
          null,
          2,
          3,
          null,
          2,
          3,
          null,
          3,
          4,
          null,
          2,
          3,
          null,
          2,
          3,
          null,
          2,
          3,
          null,
          1,
          2,
          null,
          2,
          3,
          null,
          2,
          3,
          null,
          3,
          4,
          null,
          2,
          3,
          null,
          2,
          3,
          null,
          3,
          4,
          null,
          3,
          4,
          null,
          2,
          3,
          null,
          3,
          4,
          null,
          2,
          3,
          null,
          3,
          4,
          null,
          3,
          4,
          null,
          2,
          3,
          null,
          3,
          4,
          null,
          3,
          4,
          null,
          2,
          3,
          null,
          2,
          3,
          null,
          3,
          4,
          null,
          3,
          4,
          null,
          3,
          4,
          null,
          2,
          3,
          null,
          4,
          5,
          null,
          3,
          4,
          null,
          3,
          4,
          null,
          2,
          3,
          null,
          3,
          4,
          null,
          3,
          4,
          null,
          3,
          4,
          null,
          3,
          4,
          null,
          2,
          3,
          null,
          3,
          4,
          null,
          2,
          3,
          null,
          3,
          4,
          null,
          3,
          4,
          null,
          2,
          3,
          null,
          2,
          3,
          null,
          2,
          3,
          null,
          2,
          3,
          null,
          2,
          3,
          null,
          2,
          3,
          null,
          3,
          4,
          null,
          2,
          3,
          null,
          3,
          4,
          null,
          3,
          4,
          null,
          3,
          4,
          null,
          2,
          3,
          null,
          3,
          4,
          null,
          3,
          4,
          null,
          3,
          4,
          null,
          4,
          5,
          null,
          3,
          4,
          null,
          2,
          3,
          null,
          2,
          3,
          null,
          3,
          4,
          null,
          2,
          3,
          null,
          3,
          4,
          null,
          4,
          5,
          null,
          3,
          4,
          null,
          3,
          4,
          null,
          3,
          4,
          null,
          3,
          4,
          null,
          3,
          4,
          null,
          3,
          4,
          null,
          2,
          3,
          null,
          3,
          4,
          null,
          2,
          3,
          null,
          4,
          5,
          null,
          3,
          4,
          null,
          3,
          4,
          null,
          2,
          3,
          null,
          3,
          4,
          null,
          3,
          4,
          null,
          3,
          4,
          null,
          3,
          4,
          null,
          3,
          4,
          null,
          3,
          4,
          null,
          2,
          3,
          null,
          3,
          4,
          null,
          4,
          5,
          null,
          3,
          4,
          null,
          3,
          4,
          null,
          3,
          4,
          null,
          3,
          4,
          null,
          3,
          4,
          null,
          2,
          3,
          null,
          4,
          5,
          null,
          3,
          4,
          null,
          3,
          4,
          null,
          3,
          4,
          null,
          4,
          5,
          null,
          3,
          4,
          null,
          4,
          5,
          null,
          3,
          4,
          null,
          3,
          4,
          null,
          4,
          5,
          null,
          4,
          5,
          null,
          2,
          3,
          null,
          2,
          3,
          null,
          3,
          4,
          null,
          4,
          5,
          null,
          3,
          4,
          null,
          3,
          4,
          null,
          2,
          3,
          null,
          3,
          4,
          null,
          4,
          5,
          null,
          2,
          3,
          null,
          4,
          5,
          null,
          3,
          4,
          null,
          3,
          4,
          null,
          3,
          4,
          null,
          3,
          4,
          null,
          3,
          4,
          null,
          3,
          4,
          null,
          3,
          4,
          null,
          2,
          3,
          null,
          3,
          4,
          null,
          5,
          6,
          null,
          4,
          5,
          null,
          4,
          5,
          null,
          3,
          4,
          null,
          3,
          4,
          null,
          2,
          3,
          null,
          5,
          6,
          null,
          3,
          4,
          null,
          2,
          3,
          null,
          3,
          4,
          null,
          3,
          4,
          null,
          3,
          4,
          null,
          4,
          5,
          null,
          4,
          5,
          null,
          3,
          4,
          null,
          3,
          4,
          null,
          3,
          4,
          null,
          2,
          3,
          null,
          3,
          4,
          null,
          3,
          4,
          null,
          4,
          5,
          null,
          3,
          4,
          null,
          3,
          4,
          null,
          3,
          4,
          null,
          3,
          4,
          null,
          4,
          5,
          null,
          3,
          4,
          null,
          3,
          4,
          null,
          4,
          5,
          null,
          4,
          5,
          null,
          4,
          5,
          null,
          3,
          4,
          null,
          3,
          4,
          null,
          2,
          3,
          null,
          4,
          5,
          null,
          3,
          4,
          null,
          4,
          5,
          null,
          3,
          4,
          null
         ]
        },
        {
         "hoverinfo": "text",
         "marker": {
          "color": "#6959CD",
          "line": {
           "color": "rgb(50,50,50)",
           "width": 0.5
          },
          "size": 5,
          "symbol": "circle-dot"
         },
         "mode": "markers",
         "name": "ntw",
         "type": "scatter",
         "x": [
          0,
          -35.10807291666667,
          -12.290364583333336,
          -20.399739583333336,
          12.21484375,
          -44.274739583333336,
          -38.19140625,
          -45.94140625,
          4.30859375,
          10.55859375,
          35.18359375,
          0.55859375,
          -15.066406250000004,
          14.68359375,
          24.55859375,
          32.68359375,
          37.68359375,
          -32.19140625,
          -43.94140625,
          12.55859375,
          -9.628906250000004,
          -46.94140625,
          35.55859375,
          -46.94140625,
          22.05859375,
          -23.441406250000004,
          -11.691406250000004,
          -25.774739583333336,
          -41.94140625,
          -4.0664062500000036,
          45.80859375,
          24.55859375,
          -34.44140625,
          14.05859375,
          3.55859375,
          -16.941406250000004,
          -9.941406250000004,
          -27.441406250000004,
          0.05859375,
          -15.441406250000004,
          15.55859375,
          -6.9414062500000036,
          35.55859375,
          -5.4414062500000036,
          -8.941406250000004,
          9.55859375,
          19.30859375,
          30.05859375,
          27.05859375,
          26.55859375,
          41.55859375,
          -38.94140625,
          9.55859375,
          -42.94140625,
          -2.9414062500000036,
          -28.441406250000004,
          45.05859375,
          43.55859375,
          -15.941406250000004,
          -36.44140625,
          15.55859375,
          21.55859375,
          -25.441406250000004,
          -21.274739583333336,
          28.55859375,
          -16.941406250000004,
          40.55859375,
          32.55859375,
          -42.94140625,
          41.55859375,
          -36.94140625,
          -14.441406250000004,
          -12.441406250000004,
          -23.441406250000004,
          -5.9414062500000036,
          -39.94140625,
          -13.441406250000004,
          13.55859375,
          5.55859375,
          12.55859375,
          -22.441406250000004,
          -24.441406250000004,
          -32.94140625,
          16.55859375,
          17.55859375,
          47.55859375,
          7.55859375,
          32.55859375,
          -0.9414062500000036,
          44.55859375,
          6.55859375,
          -3.9414062500000036,
          37.05859375,
          -9.941406250000004,
          -43.94140625,
          -27.441406250000004,
          -12.941406250000004,
          7.55859375,
          38.55859375,
          -31.44140625,
          16.55859375,
          18.55859375,
          -31.44140625,
          -39.94140625,
          -24.441406250000004,
          -21.441406250000004,
          -38.94140625,
          1.05859375,
          36.55859375,
          -19.941406250000004,
          10.55859375,
          -41.94140625,
          49.05859375,
          21.55859375,
          17.55859375,
          45.55859375,
          -7.9414062500000036,
          -6.9414062500000036,
          -45.94140625,
          -33.44140625,
          48.55859375,
          23.55859375,
          10.55859375,
          -42.94140625,
          22.55859375,
          1.05859375,
          18.55859375,
          -34.44140625,
          -0.9414062500000036,
          29.55859375,
          46.55859375,
          -18.941406250000004,
          -21.941406250000004,
          -8.941406250000004,
          -14.941406250000004,
          -25.441406250000004,
          -38.94140625,
          42.55859375,
          -23.441406250000004,
          -32.44140625,
          8.55859375,
          -45.94140625,
          0.05859375,
          -29.94140625,
          39.55859375,
          2.55859375,
          -11.941406250000004,
          -37.94140625,
          -30.44140625,
          11.55859375,
          47.55859375,
          41.55859375,
          -35.44140625,
          -19.941406250000004,
          3.55859375,
          -26.441406250000004,
          30.55859375,
          4.55859375,
          39.55859375,
          31.55859375,
          -10.941406250000004,
          20.05859375,
          5.55859375,
          -42.94140625,
          -6.9414062500000036,
          23.55859375,
          19.55859375,
          -40.94140625,
          33.55859375,
          21.55859375,
          38.55859375,
          34.55859375,
          -2.9414062500000036,
          -7.9414062500000036,
          -44.94140625,
          2.05859375,
          3.05859375,
          27.55859375,
          -13.441406250000004,
          49.55859375,
          -17.941406250000004,
          -18.941406250000004,
          14.55859375,
          44.55859375,
          -1.9414062500000036,
          -35.94140625,
          -29.44140625,
          34.55859375,
          -3.9414062500000036,
          20.55859375,
          37.55859375,
          6.55859375,
          -20.941406250000004,
          -10.941406250000004,
          24.55859375,
          25.55859375,
          21.05859375,
          -37.94140625,
          33.55859375,
          -34.44140625,
          -4.9414062500000036
         ],
         "y": [
          0,
          1,
          1,
          2,
          1,
          2,
          2,
          3,
          2,
          2,
          1,
          3,
          2,
          2,
          2,
          2,
          2,
          2,
          3,
          3,
          2,
          4,
          3,
          5,
          3,
          3,
          3,
          2,
          3,
          2,
          2,
          3,
          3,
          3,
          3,
          3,
          3,
          3,
          4,
          3,
          3,
          3,
          4,
          3,
          3,
          3,
          2,
          3,
          3,
          4,
          3,
          3,
          4,
          4,
          3,
          4,
          3,
          4,
          4,
          3,
          4,
          4,
          3,
          3,
          4,
          4,
          4,
          3,
          5,
          4,
          4,
          3,
          4,
          4,
          4,
          4,
          3,
          4,
          3,
          4,
          4,
          3,
          3,
          3,
          3,
          3,
          3,
          4,
          3,
          4,
          4,
          4,
          3,
          4,
          4,
          4,
          5,
          4,
          3,
          3,
          4,
          3,
          4,
          5,
          4,
          4,
          4,
          4,
          4,
          4,
          3,
          4,
          3,
          5,
          4,
          4,
          3,
          4,
          4,
          4,
          4,
          4,
          4,
          3,
          4,
          5,
          4,
          4,
          4,
          4,
          4,
          3,
          5,
          4,
          4,
          4,
          5,
          4,
          5,
          4,
          4,
          5,
          5,
          3,
          3,
          4,
          5,
          4,
          4,
          3,
          4,
          5,
          3,
          5,
          4,
          4,
          4,
          4,
          4,
          4,
          4,
          3,
          4,
          6,
          5,
          5,
          4,
          4,
          3,
          6,
          4,
          3,
          4,
          4,
          4,
          5,
          5,
          4,
          4,
          4,
          3,
          4,
          4,
          5,
          4,
          4,
          4,
          4,
          5,
          4,
          4,
          5,
          5,
          5,
          4,
          4,
          3,
          5,
          4,
          5,
          4
         ]
        }
       ],
       "layout": {
        "annotations": [
         {
          "font": {
           "size": 14
          },
          "showarrow": false,
          "text": "igraph.Graph",
          "x": 0,
          "xanchor": "left",
          "xref": "paper",
          "y": -0.1,
          "yanchor": "bottom",
          "yref": "paper"
         }
        ],
        "autosize": false,
        "font": {
         "size": 12
        },
        "height": 800,
        "hovermode": "closest",
        "margin": {
         "b": 85,
         "l": 40,
         "r": 40,
         "t": 100
        },
        "showlegend": false,
        "template": {
         "data": {
          "bar": [
           {
            "error_x": {
             "color": "#2a3f5f"
            },
            "error_y": {
             "color": "#2a3f5f"
            },
            "marker": {
             "line": {
              "color": "#E5ECF6",
              "width": 0.5
             },
             "pattern": {
              "fillmode": "overlay",
              "size": 10,
              "solidity": 0.2
             }
            },
            "type": "bar"
           }
          ],
          "barpolar": [
           {
            "marker": {
             "line": {
              "color": "#E5ECF6",
              "width": 0.5
             },
             "pattern": {
              "fillmode": "overlay",
              "size": 10,
              "solidity": 0.2
             }
            },
            "type": "barpolar"
           }
          ],
          "carpet": [
           {
            "aaxis": {
             "endlinecolor": "#2a3f5f",
             "gridcolor": "white",
             "linecolor": "white",
             "minorgridcolor": "white",
             "startlinecolor": "#2a3f5f"
            },
            "baxis": {
             "endlinecolor": "#2a3f5f",
             "gridcolor": "white",
             "linecolor": "white",
             "minorgridcolor": "white",
             "startlinecolor": "#2a3f5f"
            },
            "type": "carpet"
           }
          ],
          "choropleth": [
           {
            "colorbar": {
             "outlinewidth": 0,
             "ticks": ""
            },
            "type": "choropleth"
           }
          ],
          "contour": [
           {
            "colorbar": {
             "outlinewidth": 0,
             "ticks": ""
            },
            "colorscale": [
             [
              0,
              "#0d0887"
             ],
             [
              0.1111111111111111,
              "#46039f"
             ],
             [
              0.2222222222222222,
              "#7201a8"
             ],
             [
              0.3333333333333333,
              "#9c179e"
             ],
             [
              0.4444444444444444,
              "#bd3786"
             ],
             [
              0.5555555555555556,
              "#d8576b"
             ],
             [
              0.6666666666666666,
              "#ed7953"
             ],
             [
              0.7777777777777778,
              "#fb9f3a"
             ],
             [
              0.8888888888888888,
              "#fdca26"
             ],
             [
              1,
              "#f0f921"
             ]
            ],
            "type": "contour"
           }
          ],
          "contourcarpet": [
           {
            "colorbar": {
             "outlinewidth": 0,
             "ticks": ""
            },
            "type": "contourcarpet"
           }
          ],
          "heatmap": [
           {
            "colorbar": {
             "outlinewidth": 0,
             "ticks": ""
            },
            "colorscale": [
             [
              0,
              "#0d0887"
             ],
             [
              0.1111111111111111,
              "#46039f"
             ],
             [
              0.2222222222222222,
              "#7201a8"
             ],
             [
              0.3333333333333333,
              "#9c179e"
             ],
             [
              0.4444444444444444,
              "#bd3786"
             ],
             [
              0.5555555555555556,
              "#d8576b"
             ],
             [
              0.6666666666666666,
              "#ed7953"
             ],
             [
              0.7777777777777778,
              "#fb9f3a"
             ],
             [
              0.8888888888888888,
              "#fdca26"
             ],
             [
              1,
              "#f0f921"
             ]
            ],
            "type": "heatmap"
           }
          ],
          "heatmapgl": [
           {
            "colorbar": {
             "outlinewidth": 0,
             "ticks": ""
            },
            "colorscale": [
             [
              0,
              "#0d0887"
             ],
             [
              0.1111111111111111,
              "#46039f"
             ],
             [
              0.2222222222222222,
              "#7201a8"
             ],
             [
              0.3333333333333333,
              "#9c179e"
             ],
             [
              0.4444444444444444,
              "#bd3786"
             ],
             [
              0.5555555555555556,
              "#d8576b"
             ],
             [
              0.6666666666666666,
              "#ed7953"
             ],
             [
              0.7777777777777778,
              "#fb9f3a"
             ],
             [
              0.8888888888888888,
              "#fdca26"
             ],
             [
              1,
              "#f0f921"
             ]
            ],
            "type": "heatmapgl"
           }
          ],
          "histogram": [
           {
            "marker": {
             "pattern": {
              "fillmode": "overlay",
              "size": 10,
              "solidity": 0.2
             }
            },
            "type": "histogram"
           }
          ],
          "histogram2d": [
           {
            "colorbar": {
             "outlinewidth": 0,
             "ticks": ""
            },
            "colorscale": [
             [
              0,
              "#0d0887"
             ],
             [
              0.1111111111111111,
              "#46039f"
             ],
             [
              0.2222222222222222,
              "#7201a8"
             ],
             [
              0.3333333333333333,
              "#9c179e"
             ],
             [
              0.4444444444444444,
              "#bd3786"
             ],
             [
              0.5555555555555556,
              "#d8576b"
             ],
             [
              0.6666666666666666,
              "#ed7953"
             ],
             [
              0.7777777777777778,
              "#fb9f3a"
             ],
             [
              0.8888888888888888,
              "#fdca26"
             ],
             [
              1,
              "#f0f921"
             ]
            ],
            "type": "histogram2d"
           }
          ],
          "histogram2dcontour": [
           {
            "colorbar": {
             "outlinewidth": 0,
             "ticks": ""
            },
            "colorscale": [
             [
              0,
              "#0d0887"
             ],
             [
              0.1111111111111111,
              "#46039f"
             ],
             [
              0.2222222222222222,
              "#7201a8"
             ],
             [
              0.3333333333333333,
              "#9c179e"
             ],
             [
              0.4444444444444444,
              "#bd3786"
             ],
             [
              0.5555555555555556,
              "#d8576b"
             ],
             [
              0.6666666666666666,
              "#ed7953"
             ],
             [
              0.7777777777777778,
              "#fb9f3a"
             ],
             [
              0.8888888888888888,
              "#fdca26"
             ],
             [
              1,
              "#f0f921"
             ]
            ],
            "type": "histogram2dcontour"
           }
          ],
          "mesh3d": [
           {
            "colorbar": {
             "outlinewidth": 0,
             "ticks": ""
            },
            "type": "mesh3d"
           }
          ],
          "parcoords": [
           {
            "line": {
             "colorbar": {
              "outlinewidth": 0,
              "ticks": ""
             }
            },
            "type": "parcoords"
           }
          ],
          "pie": [
           {
            "automargin": true,
            "type": "pie"
           }
          ],
          "scatter": [
           {
            "fillpattern": {
             "fillmode": "overlay",
             "size": 10,
             "solidity": 0.2
            },
            "type": "scatter"
           }
          ],
          "scatter3d": [
           {
            "line": {
             "colorbar": {
              "outlinewidth": 0,
              "ticks": ""
             }
            },
            "marker": {
             "colorbar": {
              "outlinewidth": 0,
              "ticks": ""
             }
            },
            "type": "scatter3d"
           }
          ],
          "scattercarpet": [
           {
            "marker": {
             "colorbar": {
              "outlinewidth": 0,
              "ticks": ""
             }
            },
            "type": "scattercarpet"
           }
          ],
          "scattergeo": [
           {
            "marker": {
             "colorbar": {
              "outlinewidth": 0,
              "ticks": ""
             }
            },
            "type": "scattergeo"
           }
          ],
          "scattergl": [
           {
            "marker": {
             "colorbar": {
              "outlinewidth": 0,
              "ticks": ""
             }
            },
            "type": "scattergl"
           }
          ],
          "scattermapbox": [
           {
            "marker": {
             "colorbar": {
              "outlinewidth": 0,
              "ticks": ""
             }
            },
            "type": "scattermapbox"
           }
          ],
          "scatterpolar": [
           {
            "marker": {
             "colorbar": {
              "outlinewidth": 0,
              "ticks": ""
             }
            },
            "type": "scatterpolar"
           }
          ],
          "scatterpolargl": [
           {
            "marker": {
             "colorbar": {
              "outlinewidth": 0,
              "ticks": ""
             }
            },
            "type": "scatterpolargl"
           }
          ],
          "scatterternary": [
           {
            "marker": {
             "colorbar": {
              "outlinewidth": 0,
              "ticks": ""
             }
            },
            "type": "scatterternary"
           }
          ],
          "surface": [
           {
            "colorbar": {
             "outlinewidth": 0,
             "ticks": ""
            },
            "colorscale": [
             [
              0,
              "#0d0887"
             ],
             [
              0.1111111111111111,
              "#46039f"
             ],
             [
              0.2222222222222222,
              "#7201a8"
             ],
             [
              0.3333333333333333,
              "#9c179e"
             ],
             [
              0.4444444444444444,
              "#bd3786"
             ],
             [
              0.5555555555555556,
              "#d8576b"
             ],
             [
              0.6666666666666666,
              "#ed7953"
             ],
             [
              0.7777777777777778,
              "#fb9f3a"
             ],
             [
              0.8888888888888888,
              "#fdca26"
             ],
             [
              1,
              "#f0f921"
             ]
            ],
            "type": "surface"
           }
          ],
          "table": [
           {
            "cells": {
             "fill": {
              "color": "#EBF0F8"
             },
             "line": {
              "color": "white"
             }
            },
            "header": {
             "fill": {
              "color": "#C8D4E3"
             },
             "line": {
              "color": "white"
             }
            },
            "type": "table"
           }
          ]
         },
         "layout": {
          "annotationdefaults": {
           "arrowcolor": "#2a3f5f",
           "arrowhead": 0,
           "arrowwidth": 1
          },
          "autotypenumbers": "strict",
          "coloraxis": {
           "colorbar": {
            "outlinewidth": 0,
            "ticks": ""
           }
          },
          "colorscale": {
           "diverging": [
            [
             0,
             "#8e0152"
            ],
            [
             0.1,
             "#c51b7d"
            ],
            [
             0.2,
             "#de77ae"
            ],
            [
             0.3,
             "#f1b6da"
            ],
            [
             0.4,
             "#fde0ef"
            ],
            [
             0.5,
             "#f7f7f7"
            ],
            [
             0.6,
             "#e6f5d0"
            ],
            [
             0.7,
             "#b8e186"
            ],
            [
             0.8,
             "#7fbc41"
            ],
            [
             0.9,
             "#4d9221"
            ],
            [
             1,
             "#276419"
            ]
           ],
           "sequential": [
            [
             0,
             "#0d0887"
            ],
            [
             0.1111111111111111,
             "#46039f"
            ],
            [
             0.2222222222222222,
             "#7201a8"
            ],
            [
             0.3333333333333333,
             "#9c179e"
            ],
            [
             0.4444444444444444,
             "#bd3786"
            ],
            [
             0.5555555555555556,
             "#d8576b"
            ],
            [
             0.6666666666666666,
             "#ed7953"
            ],
            [
             0.7777777777777778,
             "#fb9f3a"
            ],
            [
             0.8888888888888888,
             "#fdca26"
            ],
            [
             1,
             "#f0f921"
            ]
           ],
           "sequentialminus": [
            [
             0,
             "#0d0887"
            ],
            [
             0.1111111111111111,
             "#46039f"
            ],
            [
             0.2222222222222222,
             "#7201a8"
            ],
            [
             0.3333333333333333,
             "#9c179e"
            ],
            [
             0.4444444444444444,
             "#bd3786"
            ],
            [
             0.5555555555555556,
             "#d8576b"
            ],
            [
             0.6666666666666666,
             "#ed7953"
            ],
            [
             0.7777777777777778,
             "#fb9f3a"
            ],
            [
             0.8888888888888888,
             "#fdca26"
            ],
            [
             1,
             "#f0f921"
            ]
           ]
          },
          "colorway": [
           "#636efa",
           "#EF553B",
           "#00cc96",
           "#ab63fa",
           "#FFA15A",
           "#19d3f3",
           "#FF6692",
           "#B6E880",
           "#FF97FF",
           "#FECB52"
          ],
          "font": {
           "color": "#2a3f5f"
          },
          "geo": {
           "bgcolor": "white",
           "lakecolor": "white",
           "landcolor": "#E5ECF6",
           "showlakes": true,
           "showland": true,
           "subunitcolor": "white"
          },
          "hoverlabel": {
           "align": "left"
          },
          "hovermode": "closest",
          "mapbox": {
           "style": "light"
          },
          "paper_bgcolor": "white",
          "plot_bgcolor": "#E5ECF6",
          "polar": {
           "angularaxis": {
            "gridcolor": "white",
            "linecolor": "white",
            "ticks": ""
           },
           "bgcolor": "#E5ECF6",
           "radialaxis": {
            "gridcolor": "white",
            "linecolor": "white",
            "ticks": ""
           }
          },
          "scene": {
           "xaxis": {
            "backgroundcolor": "#E5ECF6",
            "gridcolor": "white",
            "gridwidth": 2,
            "linecolor": "white",
            "showbackground": true,
            "ticks": "",
            "zerolinecolor": "white"
           },
           "yaxis": {
            "backgroundcolor": "#E5ECF6",
            "gridcolor": "white",
            "gridwidth": 2,
            "linecolor": "white",
            "showbackground": true,
            "ticks": "",
            "zerolinecolor": "white"
           },
           "zaxis": {
            "backgroundcolor": "#E5ECF6",
            "gridcolor": "white",
            "gridwidth": 2,
            "linecolor": "white",
            "showbackground": true,
            "ticks": "",
            "zerolinecolor": "white"
           }
          },
          "shapedefaults": {
           "line": {
            "color": "#2a3f5f"
           }
          },
          "ternary": {
           "aaxis": {
            "gridcolor": "white",
            "linecolor": "white",
            "ticks": ""
           },
           "baxis": {
            "gridcolor": "white",
            "linecolor": "white",
            "ticks": ""
           },
           "bgcolor": "#E5ECF6",
           "caxis": {
            "gridcolor": "white",
            "linecolor": "white",
            "ticks": ""
           }
          },
          "title": {
           "x": 0.05
          },
          "xaxis": {
           "automargin": true,
           "gridcolor": "white",
           "linecolor": "white",
           "ticks": "",
           "title": {
            "standoff": 15
           },
           "zerolinecolor": "white",
           "zerolinewidth": 2
          },
          "yaxis": {
           "automargin": true,
           "gridcolor": "white",
           "linecolor": "white",
           "ticks": "",
           "title": {
            "standoff": 15
           },
           "zerolinecolor": "white",
           "zerolinewidth": 2
          }
         }
        },
        "title": {
         "text": "title<br> xyz: <a href='https://tuloy.co'> [1]</a>"
        },
        "width": 800,
        "xaxis": {
         "showgrid": false,
         "showline": false,
         "showticklabels": false,
         "title": {
          "text": ""
         },
         "zeroline": false
        },
        "yaxis": {
         "showgrid": false,
         "showline": false,
         "showticklabels": false,
         "title": {
          "text": ""
         },
         "zeroline": false
        }
       }
      }
     },
     "metadata": {},
     "output_type": "display_data"
    },
    {
     "name": "stdout",
     "output_type": "stream",
     "text": [
      "CPU times: user 220 ms, sys: 61.1 ms, total: 281 ms\n",
      "Wall time: 322 ms\n"
     ]
    }
   ],
   "source": [
    "%%time\n",
    "\n",
    "from  plotly.offline import plot\n",
    "import chart_studio.plotly as py\n",
    "import plotly.graph_objs\n",
    "\n",
    "\n",
    "\n",
    "G = graph\n",
    "labels = list(G.vs['name'])\n",
    "N = len(labels)\n",
    "E = [e.tuple for e in G.es]\n",
    "layt = G.layout('tree')\n",
    "\n",
    "Xn=[layt[k][0] for k in range(N)]\n",
    "Yn=[layt[k][1] for k in range(N)]\n",
    "Xe=[]\n",
    "Ye=[]\n",
    "for e in E:\n",
    "    Xe+=[layt[e[0]][0],layt[e[1]][0], None]\n",
    "    Ye+=[layt[e[0]][1],layt[e[1]][1], None]\n",
    "\n",
    "trace1=plotly.graph_objs.Scatter(x=Xe,\n",
    "               y=Ye,\n",
    "               mode='lines',\n",
    "               line= dict(color='rgb(210,210,210)', width=1),\n",
    "               hoverinfo='none'\n",
    "               )\n",
    "trace2=plotly.graph_objs.Scatter(x=Xn,\n",
    "               y=Yn,\n",
    "               mode='markers',\n",
    "               name='ntw',\n",
    "               marker=dict(symbol='circle-dot',\n",
    "                                        size=5,\n",
    "                                        color='#6959CD',\n",
    "                                        line=dict(color='rgb(50,50,50)', width=0.5)\n",
    "                                        ),\n",
    "               text=None,\n",
    "               hoverinfo='text'\n",
    "               )\n",
    "\n",
    "axis=dict(showline=False, # hide axis line, grid, ticklabels and  title\n",
    "          zeroline=False,\n",
    "          showgrid=False,\n",
    "          showticklabels=False,\n",
    "          title=''\n",
    "          )\n",
    "\n",
    "width=800\n",
    "height=800\n",
    "layout=plotly.graph_objs.Layout(title= \"title\"+\\\n",
    "              \"<br> xyz: <a href='https://tuloy.co'> [1]</a>\",\n",
    "    font= dict(size=12),\n",
    "    showlegend=False,\n",
    "    autosize=False,\n",
    "    width=width,\n",
    "    height=height,\n",
    "    xaxis=plotly.graph_objs.layout.XAxis(axis),\n",
    "    yaxis=plotly.graph_objs.layout.YAxis(axis),\n",
    "    margin=plotly.graph_objs.layout.Margin(\n",
    "        l=40,\n",
    "        r=40,\n",
    "        b=85,\n",
    "        t=100,\n",
    "    ),\n",
    "    hovermode='closest',\n",
    "    annotations=[\n",
    "           dict(\n",
    "           showarrow=False,\n",
    "            text='igraph.Graph',\n",
    "            xref='paper',\n",
    "            yref='paper',\n",
    "            x=0,\n",
    "            y=-0.1,\n",
    "            xanchor='left',\n",
    "            yanchor='bottom',\n",
    "            font=dict(\n",
    "            size=14\n",
    "            )\n",
    "            )\n",
    "        ]\n",
    "    )\n",
    "\n",
    "data=[trace1, trace2]\n",
    "fig=plotly.graph_objs.Figure(data=data, layout=layout)\n",
    "plotly.offline.iplot(fig, filename='igraph-network')"
   ]
  },
  {
   "cell_type": "code",
   "execution_count": null,
   "metadata": {},
   "outputs": [],
   "source": []
  },
  {
   "cell_type": "code",
   "execution_count": null,
   "metadata": {},
   "outputs": [],
   "source": []
  },
  {
   "cell_type": "code",
   "execution_count": null,
   "metadata": {},
   "outputs": [],
   "source": []
  },
  {
   "cell_type": "code",
   "execution_count": null,
   "metadata": {},
   "outputs": [],
   "source": []
  },
  {
   "cell_type": "code",
   "execution_count": null,
   "metadata": {},
   "outputs": [],
   "source": []
  },
  {
   "cell_type": "code",
   "execution_count": null,
   "metadata": {},
   "outputs": [],
   "source": []
  },
  {
   "cell_type": "code",
   "execution_count": null,
   "metadata": {},
   "outputs": [],
   "source": []
  },
  {
   "cell_type": "code",
   "execution_count": null,
   "metadata": {},
   "outputs": [],
   "source": []
  },
  {
   "cell_type": "markdown",
   "metadata": {},
   "source": [
    "`compute_state` computes new game states given an `action` and `state`. It's called whenever a new state is encountered. Its output is stored as a new `node`'s `state` and `available_actions`."
   ]
  },
  {
   "cell_type": "code",
   "execution_count": null,
   "metadata": {},
   "outputs": [],
   "source": [
    "def compute_state(state, action_idx, valid_actions):\n",
    "    assert valid_actions[action_idx] == 1\n",
    "\n",
    "    pass\n",
    "    # TODO\n"
   ]
  },
  {
   "cell_type": "markdown",
   "metadata": {},
   "source": [
    "## Exploitation and Exploration functions"
   ]
  },
  {
   "cell_type": "markdown",
   "metadata": {},
   "source": [
    "The *exploitation* function favors high returns and consistently winning paths. *Exploration* initially favors new paths and eventually favors winning paths.\n",
    "\n",
    "Reference: [Deep Learning and the Game of Go [14.2.1]](https://livebook.manning.com/book/deep-learning-and-the-game-of-go/chapter-14/39) | [MIT 16.412J s16 Cognitive Robotics: Advanced 4. Monte Carlo Tree Search](https://www.youtube.com/watch?v=xmImNoDc9Z4)"
   ]
  },
  {
   "cell_type": "markdown",
   "metadata": {},
   "source": [
    "```\n",
    "exploit(s,a) = total_val(s) / visit_count(s,a)\n",
    "\n",
    "explore(s,a) = c_puct * action_probabilities(s,a) * sqrt(visit_count(previous_node)) / (1 + visit_count(s,a))\n",
    "```\n",
    "\n",
    "`total_val` is the sum of all node values on the current path up to the current node. `visit_counts` is the number of visits to the current node."
   ]
  },
  {
   "cell_type": "code",
   "execution_count": null,
   "metadata": {},
   "outputs": [
    {
     "data": {
      "text/plain": [
       "(array([9.98888057e-01, 1.11194276e-03, 7.99958888e-17]), 3)"
      ]
     },
     "execution_count": null,
     "metadata": {},
     "output_type": "execute_result"
    }
   ],
   "source": [
    "rng = np.random.default_rng(0)\n",
    "x = rng.dirichlet([0.03]*3, )\n",
    "x, x.size"
   ]
  },
  {
   "cell_type": "markdown",
   "metadata": {},
   "source": []
  }
 ],
 "metadata": {
  "kernelspec": {
   "display_name": "Python 3.9.10 ('base')",
   "language": "python",
   "name": "python3"
  }
 },
 "nbformat": 4,
 "nbformat_minor": 2
}
