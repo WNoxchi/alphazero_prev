{
 "cells": [
  {
   "cell_type": "code",
   "execution_count": null,
   "metadata": {},
   "outputs": [],
   "source": [
    "# default_exp core"
   ]
  },
  {
   "cell_type": "markdown",
   "metadata": {},
   "source": [
    "# AlphaZero starter template"
   ]
  },
  {
   "cell_type": "code",
   "execution_count": null,
   "metadata": {},
   "outputs": [],
   "source": [
    "#hide\n",
    "from nbdev.showdoc import *"
   ]
  },
  {
   "cell_type": "markdown",
   "metadata": {},
   "source": [
    "# MCTS"
   ]
  },
  {
   "cell_type": "code",
   "execution_count": null,
   "metadata": {},
   "outputs": [],
   "source": [
    "import numpy as np"
   ]
  },
  {
   "cell_type": "code",
   "execution_count": null,
   "metadata": {},
   "outputs": [],
   "source": [
    "import networkx as nx"
   ]
  },
  {
   "cell_type": "code",
   "execution_count": null,
   "metadata": {},
   "outputs": [],
   "source": [
    "rng = np.random.default_rng()"
   ]
  },
  {
   "cell_type": "markdown",
   "metadata": {},
   "source": [
    "## Overview"
   ]
  },
  {
   "cell_type": "code",
   "execution_count": null,
   "metadata": {},
   "outputs": [],
   "source": [
    "# placeholder model\n",
    "def model(state, action, n=3):\n",
    "    actions = rng.random(n)\n",
    "    actions /= sum(actions)\n",
    "    return actions"
   ]
  },
  {
   "cell_type": "markdown",
   "metadata": {},
   "source": [
    "`MCTree`: the search tree containing all nodes, queried by `MCTS`. Pruned after each turn to save space."
   ]
  },
  {
   "cell_type": "code",
   "execution_count": null,
   "metadata": {},
   "outputs": [],
   "source": [
    "class MCTree():\n",
    "    def __init__(self):\n",
    "        ..."
   ]
  },
  {
   "cell_type": "markdown",
   "metadata": {},
   "source": [
    "`MCTS`: search algorithm. Responsible for running simulations, selecting the next action, and maintaining the search tree."
   ]
  },
  {
   "cell_type": "code",
   "execution_count": null,
   "metadata": {},
   "outputs": [],
   "source": [
    "# class MCTS():\n",
    "#     def __init__(self, n_sims, c_puct=1.0, noise_alpha=0.03, noise_epsilon=0.25):\n",
    "#         self.n_sims = n_sims\n",
    "#         self.c_puct = c_puct\n",
    "#         self.noise_alpha = noise_alpha\n",
    "#         self.noise_epsilon = noise_epsilon\n",
    "\n",
    "\n",
    "#     def simulate(self, node):\n",
    "#         \"\"\"Runs one simulation.\"\"\"\n",
    "#         action_idx = self.sim_select(node.actions)\n",
    "#         if node.actions[action_idx] is None:\n",
    "#             new_state = compute_state(action_idx, node.valid_actions)\n",
    "            \n",
    "            \n",
    "\n",
    "#     def sim_select(actions):\n",
    "#         \"\"\"Selects an action to simulate.\"\"\"\n",
    "#         return np.argmax(actions)"
   ]
  },
  {
   "cell_type": "markdown",
   "metadata": {},
   "source": [
    "### Building the Search Tree"
   ]
  },
  {
   "cell_type": "markdown",
   "metadata": {},
   "source": [
    "Creating a node"
   ]
  },
  {
   "cell_type": "code",
   "execution_count": null,
   "metadata": {},
   "outputs": [],
   "source": [
    "def create_node(state: np.ndarray, action_probs: np.ndarray, valid_actions: np.ndarray, value: float = 0.0, branch_nodes=None, parent=None, index=0):\n",
    "    node = {'state':state, 'action_probs':action_probs, 'valid_actions':valid_actions, 'visits':1, 'value':value, \n",
    "            'branch_nodes':[None]*len(action_probs), 'parent':parent, 'index':index}\n",
    "    return node\n"
   ]
  },
  {
   "cell_type": "code",
   "execution_count": null,
   "metadata": {},
   "outputs": [],
   "source": [
    "def create_random_node(parent=None, index=0):\n",
    "    state = rng.integers(0,2,(4,4))\n",
    "    action_probs = rng.random(4)\n",
    "    valid_actions = rng.integers(0,2,4)\n",
    "    value = rng.random()\n",
    "    return create_node(state, action_probs, valid_actions, value=value, branch_nodes=[None]*5, parent=None, index=index)"
   ]
  },
  {
   "cell_type": "markdown",
   "metadata": {},
   "source": [
    "Initializing the search tree and add a branch"
   ]
  },
  {
   "cell_type": "code",
   "execution_count": null,
   "metadata": {},
   "outputs": [],
   "source": [
    "root = create_random_node()"
   ]
  },
  {
   "cell_type": "code",
   "execution_count": null,
   "metadata": {},
   "outputs": [
    {
     "name": "stdout",
     "output_type": "stream",
     "text": [
      "[None, None, None, None]\n",
      "[None, None, None, {'state': array([[0, 1, 1, 1],\n",
      "       [0, 1, 0, 0],\n",
      "       [1, 0, 1, 1],\n",
      "       [1, 1, 1, 0]]), 'action_probs': array([0.57124398, 0.94230255, 0.2410921 , 0.43919801]), 'valid_actions': array([0, 1, 0, 0]), 'visits': 1, 'value': 0.6755543170947854, 'branch_nodes': [None, None, None, None], 'parent': None, 'index': 0}]\n"
     ]
    }
   ],
   "source": [
    "current_node = root\n",
    "\n",
    "select_idx = 3\n",
    "\n",
    "if current_node['branch_nodes'][select_idx] is None:\n",
    "    print(current_node['branch_nodes'])\n",
    "    current_node['branch_nodes'][select_idx] = create_random_node()\n",
    "    print(current_node['branch_nodes'])\n",
    "\n",
    "else:\n",
    "    current_node = current_node['branch_nodes'][select_idx]"
   ]
  },
  {
   "cell_type": "markdown",
   "metadata": {},
   "source": [
    "#### Random Simulation: create new nodes on new"
   ]
  },
  {
   "cell_type": "code",
   "execution_count": null,
   "metadata": {},
   "outputs": [
    {
     "name": "stdout",
     "output_type": "stream",
     "text": [
      "CPU times: user 8.09 ms, sys: 3.41 ms, total: 11.5 ms\n",
      "Wall time: 9.08 ms\n"
     ]
    }
   ],
   "source": [
    "%%time\n",
    "\n",
    "graph = nx.Graph()\n",
    "\n",
    "sims = 400 # each sim ends by creating a new node\n",
    "root = create_random_node()\n",
    "n_actions = 4\n",
    "n_nodes=0\n",
    "\n",
    "graph.add_node(n_nodes)\n",
    "n_nodes += 1\n",
    "\n",
    "# run a simulation\n",
    "for i in range(sims):\n",
    "    node = root\n",
    "    select_idx = rng.integers(0, n_actions)\n",
    "    \n",
    "    # explore the search tree until new state found\n",
    "    while node['branch_nodes'][select_idx] is not None:\n",
    "        node = node['branch_nodes'][select_idx]\n",
    "        node['visits'] += 1\n",
    "\n",
    "        select_idx = rng.integers(0, n_actions)\n",
    "\n",
    "    # create new node when new state found\n",
    "    n_nodes += 1\n",
    "    graph.add_edge(node['index'], n_nodes)\n",
    "    node['branch_nodes'][select_idx] = create_random_node(parent=node, index=n_nodes)\n",
    "    node = node['branch_nodes'][select_idx]\n",
    "\n",
    "\n",
    "    # update values of all nodes on current path\n",
    "    parent = node['parent']\n",
    "    while parent is not None:\n",
    "        value = node['value']\n",
    "        node = parent\n",
    "        node['value'] += value\n",
    "\n",
    "\n"
   ]
  },
  {
   "cell_type": "markdown",
   "metadata": {},
   "source": [
    "#### Visualize Search Tree\n"
   ]
  },
  {
   "cell_type": "code",
   "execution_count": null,
   "metadata": {},
   "outputs": [
    {
     "data": {
      "image/png": "[encoded data removed]",
      "text/plain": [
       "<Figure size 432x288 with 1 Axes>"
      ]
     },
     "metadata": {},
     "output_type": "display_data"
    }
   ],
   "source": [
    "pos = nx.nx_agraph.graphviz_layout(graph)\n",
    "pos = nx.nx_agraph.graphviz_layout(graph, prog=\"dot\")\n",
    "nx.draw(graph, pos)"
   ]
  },
  {
   "cell_type": "code",
   "execution_count": null,
   "metadata": {},
   "outputs": [],
   "source": []
  },
  {
   "cell_type": "code",
   "execution_count": null,
   "metadata": {},
   "outputs": [],
   "source": []
  },
  {
   "cell_type": "code",
   "execution_count": null,
   "metadata": {},
   "outputs": [],
   "source": []
  },
  {
   "cell_type": "code",
   "execution_count": null,
   "metadata": {},
   "outputs": [],
   "source": []
  },
  {
   "cell_type": "code",
   "execution_count": null,
   "metadata": {},
   "outputs": [],
   "source": []
  },
  {
   "cell_type": "code",
   "execution_count": null,
   "metadata": {},
   "outputs": [],
   "source": []
  },
  {
   "cell_type": "code",
   "execution_count": null,
   "metadata": {},
   "outputs": [],
   "source": []
  },
  {
   "cell_type": "markdown",
   "metadata": {},
   "source": [
    "`compute_state` computes new game states given an `action` and `state`. It's called whenever a new state is encountered. Its output is stored as a new `node`'s `state` and `available_actions`."
   ]
  },
  {
   "cell_type": "code",
   "execution_count": null,
   "metadata": {},
   "outputs": [],
   "source": [
    "def compute_state(state, action_idx, valid_actions):\n",
    "    assert valid_actions[action_idx] == 1\n",
    "\n",
    "    pass\n",
    "    # TODO\n"
   ]
  },
  {
   "cell_type": "markdown",
   "metadata": {},
   "source": [
    "## Exploitation and Exploration functions"
   ]
  },
  {
   "cell_type": "markdown",
   "metadata": {},
   "source": [
    "The *exploitation* function favors high returns and consistently winning paths. *Exploration* initially favors new paths and eventually favors winning paths.\n",
    "\n",
    "Reference: [Deep Learning and the Game of Go [14.2.1]](https://livebook.manning.com/book/deep-learning-and-the-game-of-go/chapter-14/39) | [MIT 16.412J s16 Cognitive Robotics: Advanced 4. Monte Carlo Tree Search](https://www.youtube.com/watch?v=xmImNoDc9Z4)"
   ]
  },
  {
   "cell_type": "markdown",
   "metadata": {},
   "source": [
    "```\n",
    "exploit(s,a) = total_val(s) / visit_count(s,a)\n",
    "\n",
    "explore(s,a) = c_puct * action_probabilities(s,a) * sqrt(visit_count(previous_node)) / (1 + visit_count(s,a))\n",
    "```\n",
    "\n",
    "`total_val` is the sum of all node values on the current path up to the current node. `visit_counts` is the number of visits to the current node."
   ]
  },
  {
   "cell_type": "code",
   "execution_count": null,
   "metadata": {},
   "outputs": [
    {
     "data": {
      "text/plain": [
       "(array([9.98888057e-01, 1.11194276e-03, 7.99958888e-17]), 3)"
      ]
     },
     "execution_count": null,
     "metadata": {},
     "output_type": "execute_result"
    }
   ],
   "source": [
    "rng = np.random.default_rng(0)\n",
    "x = rng.dirichlet([0.03]*3, )\n",
    "x, x.size"
   ]
  },
  {
   "cell_type": "markdown",
   "metadata": {},
   "source": []
  }
 ],
 "metadata": {
  "kernelspec": {
   "display_name": "Python 3.9.10 ('base')",
   "language": "python",
   "name": "python3"
  }
 },
 "nbformat": 4,
 "nbformat_minor": 2
}
