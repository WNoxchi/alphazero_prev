{
 "cells": [
  {
   "cell_type": "code",
   "execution_count": null,
   "metadata": {},
   "outputs": [],
   "source": [
    "# default_exp core"
   ]
  },
  {
   "cell_type": "markdown",
   "metadata": {},
   "source": [
    "# AlphaZero Core"
   ]
  },
  {
   "cell_type": "code",
   "execution_count": null,
   "metadata": {},
   "outputs": [],
   "source": [
    "#hide\n",
    "from nbdev.showdoc import *"
   ]
  },
  {
   "cell_type": "markdown",
   "metadata": {},
   "source": [
    "# Search Module"
   ]
  },
  {
   "cell_type": "markdown",
   "metadata": {},
   "source": [
    "## MCTS"
   ]
  },
  {
   "cell_type": "code",
   "execution_count": null,
   "metadata": {},
   "outputs": [],
   "source": [
    "import numpy as np"
   ]
  },
  {
   "cell_type": "code",
   "execution_count": null,
   "metadata": {},
   "outputs": [],
   "source": [
    "import igraph\n",
    "import alphazero.display"
   ]
  },
  {
   "cell_type": "code",
   "execution_count": null,
   "metadata": {},
   "outputs": [],
   "source": [
    "rng = np.random.default_rng()"
   ]
  },
  {
   "cell_type": "markdown",
   "metadata": {},
   "source": [
    "Data Structure\n",
    "\n",
    "Search Tree\n",
    "- The search tree is stored as a 1-level dictionary of index:node key:value pairs.\n",
    "- Keys are dropped when no longer part of the active search tree.\n",
    "- Keys are initialized & point to a null value when their parent node is created.\n",
    "- A node is created when it's key is first accessed, replacing its null value.\n",
    "\n",
    "Node\n",
    "- dictionary containing data on a state.\n",
    "- contains keys indexing into parent and branch nodes."
   ]
  },
  {
   "cell_type": "code",
   "execution_count": null,
   "metadata": {},
   "outputs": [],
   "source": [
    "def create_node(state:np.ndarray,\n",
    "                action_probs:np.ndarray,\n",
    "                valid_actions,\n",
    "                branches,\n",
    "                visits:int=1,\n",
    "                value:float=0.0,\n",
    "                end:bool=False,\n",
    "                parent_index:int=-1,\n",
    "                index:int=-1):\n",
    "    \n",
    "    return {'state':state,\n",
    "            'action_probls':action_probs,\n",
    "            'valid_actions':valid_actions,\n",
    "            'branches':branches,\n",
    "            'visits':visits,\n",
    "            'value':value,\n",
    "            'end':end,\n",
    "            'parent_index':parent_index,\n",
    "            'index':index}\n",
    "\n",
    "def create_random_node(state_size=4, n_actions=1, index=0, counter=0, parent_index=-1, end=False):\n",
    "    return create_node(state=rng.integers(0,n_actions, size=(state_size,state_size)),\n",
    "                       action_probs=rng.random(size=n_actions),\n",
    "                       valid_actions=rng.integers(0,2, size=n_actions),\n",
    "                       branches=[counter+i for i in range(n_actions)],\n",
    "                       value=rng.random(),\n",
    "                       end=False,\n",
    "                       parent_index=parent_index,\n",
    "                       index=index)"
   ]
  },
  {
   "cell_type": "code",
   "execution_count": null,
   "metadata": {},
   "outputs": [],
   "source": [
    "%%time\n",
    "\n",
    "n_sims = 100\n",
    "n_actions = 4\n",
    "\n",
    "tree = {}\n",
    "counter = 1 # keeps track of tree's next node index (equal to total nodes added)\n",
    "root_idx = 0 # keeps track of tree root (tree.root)\n",
    "graph_vis = igraph.Graph() # used for visualization\n",
    "\n",
    "# add node (tree.add_node)\n",
    "index = 0\n",
    "tree[index] = create_random_node(n_actions=n_actions, index=index, counter=counter)\n",
    "counter += n_actions\n",
    "graph_vis.add_vertex(index)\n",
    "print(list(graph_vis.vs))\n",
    "for i in tree[0]['branches']:\n",
    "    tree[i] = None\n",
    "    # graph_vis.add_vertex(i)\n",
    "    # graph_vis.add_edge(index, i)\n",
    "\n",
    "# simulations (tree.simulate)\n",
    "for i in range(n_sims):\n",
    "    # select action\n",
    "    select_idx = rng.choice(tree[index]['branches'])\n",
    "\n",
    "    # repeat until new or end state reached\n",
    "    while tree[select_idx] is not None:\n",
    "        index = select_idx\n",
    "        tree[index]['visits'] += 1\n",
    "\n",
    "        # end state found\n",
    "        if tree[index]['end']:\n",
    "            break\n",
    "\n",
    "        # select next node\n",
    "        select_idx = rng.choice(tree[index]['branches'])\n",
    "\n",
    "    # create new node (tree.add_node)\n",
    "    if tree[select_idx] is None:\n",
    "        parent = index\n",
    "        index = select_idx\n",
    "        tree[index] = create_random_node(n_actions=n_actions, index=index, counter=counter, parent_index=parent)\n",
    "        counter += n_actions\n",
    "        for i in tree[index]['branches']:\n",
    "            tree[i] = None\n",
    "            # graph_vis.add_vertex(i)\n",
    "            # graph_vis.add_edge(index, i)\n",
    "       \n",
    "        graph_vis.add_vertex(select_idx)\n",
    "        print(select_idx)\n",
    "        print(list(graph_vis.vs))\n",
    "        graph_vis.add_edge(parent, select_idx)\n",
    "\n",
    "    # update path values\n",
    "    value = tree[index]['value']\n",
    "    visits = tree[index]['visits']\n",
    "    while index != root_idx:\n",
    "        index = tree[index]['parent_index']\n",
    "        tree[index]['value'] += value\n",
    "        value = tree[index]['value']\n",
    "    \n"
   ]
  },
  {
   "cell_type": "code",
   "execution_count": null,
   "metadata": {},
   "outputs": [],
   "source": [
    "# alphazero.display.plot_tree(graph_vis, ['rt_circular','rt','tree','drl'][1])"
   ]
  },
  {
   "cell_type": "code",
   "execution_count": null,
   "metadata": {},
   "outputs": [],
   "source": []
  },
  {
   "cell_type": "code",
   "execution_count": null,
   "metadata": {},
   "outputs": [],
   "source": []
  },
  {
   "cell_type": "code",
   "execution_count": null,
   "metadata": {},
   "outputs": [],
   "source": []
  },
  {
   "cell_type": "code",
   "execution_count": null,
   "metadata": {},
   "outputs": [],
   "source": []
  },
  {
   "cell_type": "code",
   "execution_count": null,
   "metadata": {},
   "outputs": [],
   "source": []
  },
  {
   "cell_type": "code",
   "execution_count": null,
   "metadata": {},
   "outputs": [],
   "source": []
  },
  {
   "cell_type": "code",
   "execution_count": null,
   "metadata": {},
   "outputs": [],
   "source": []
  },
  {
   "cell_type": "code",
   "execution_count": null,
   "metadata": {},
   "outputs": [],
   "source": []
  },
  {
   "cell_type": "code",
   "execution_count": null,
   "metadata": {},
   "outputs": [],
   "source": []
  },
  {
   "cell_type": "code",
   "execution_count": null,
   "metadata": {},
   "outputs": [],
   "source": []
  },
  {
   "cell_type": "code",
   "execution_count": null,
   "metadata": {},
   "outputs": [],
   "source": []
  },
  {
   "cell_type": "markdown",
   "metadata": {},
   "source": [
    "`compute_state` computes new game states given an `action` and `state`. It's called whenever a new state is encountered. Its output is stored as a new `node`'s `state` and `available_actions`."
   ]
  },
  {
   "cell_type": "code",
   "execution_count": null,
   "metadata": {},
   "outputs": [],
   "source": [
    "def compute_state(state, action_idx, valid_actions):\n",
    "    assert valid_actions[action_idx] == 1\n",
    "\n",
    "    pass\n",
    "    # TODO\n"
   ]
  },
  {
   "cell_type": "markdown",
   "metadata": {},
   "source": [
    "## Exploitation and Exploration functions"
   ]
  },
  {
   "cell_type": "markdown",
   "metadata": {},
   "source": [
    "The *exploitation* function favors high returns and consistently winning paths. *Exploration* initially favors new paths and eventually favors winning paths.\n",
    "\n",
    "Reference: [Deep Learning and the Game of Go [14.2.1]](https://livebook.manning.com/book/deep-learning-and-the-game-of-go/chapter-14/39) | [MIT 16.412J s16 Cognitive Robotics: Advanced 4. Monte Carlo Tree Search](https://www.youtube.com/watch?v=xmImNoDc9Z4)"
   ]
  },
  {
   "cell_type": "markdown",
   "metadata": {},
   "source": [
    "```\n",
    "exploit(s,a) = total_val(s) / visit_count(s,a)\n",
    "\n",
    "explore(s,a) = c_puct * action_probabilities(s,a) * sqrt(visit_count(previous_node)) / (1 + visit_count(s,a))\n",
    "```\n",
    "\n",
    "`total_val` is the sum of all node values on the current path up to the current node. `visit_counts` is the number of visits to the current node."
   ]
  },
  {
   "cell_type": "code",
   "execution_count": null,
   "metadata": {},
   "outputs": [],
   "source": [
    "rng = np.random.default_rng(0)\n",
    "x = rng.dirichlet([0.03]*3, )\n",
    "x, x.size"
   ]
  },
  {
   "cell_type": "markdown",
   "metadata": {},
   "source": []
  }
 ],
 "metadata": {
  "kernelspec": {
   "display_name": "Python 3.9.10 ('base')",
   "language": "python",
   "name": "python3"
  }
 },
 "nbformat": 4,
 "nbformat_minor": 2
}
