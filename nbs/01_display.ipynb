{
 "cells": [
  {
   "cell_type": "code",
   "execution_count": null,
   "metadata": {},
   "outputs": [],
   "source": [
    "# default_exp display"
   ]
  },
  {
   "cell_type": "markdown",
   "metadata": {},
   "source": [
    "# Display Module"
   ]
  },
  {
   "cell_type": "markdown",
   "metadata": {},
   "source": [
    "Visualizations"
   ]
  },
  {
   "cell_type": "code",
   "execution_count": null,
   "metadata": {},
   "outputs": [],
   "source": [
    "# export\n",
    "\n",
    "from  plotly.offline import plot\n",
    "import chart_studio.plotly as py\n",
    "import plotly.graph_objs"
   ]
  },
  {
   "cell_type": "code",
   "execution_count": null,
   "metadata": {},
   "outputs": [],
   "source": [
    "# export\n",
    "\n",
    "def plot_tree(graph, layout_type='rt_circular'):\n",
    "    \"\"\"\n",
    "    Plots an igraph graph.\n",
    "    \"\"\"\n",
    "\n",
    "    G = graph\n",
    "    labels = list(G.vs['name'])\n",
    "    N = len(labels)\n",
    "    E = [e.tuple for e in G.es]\n",
    "    layt = G.layout(layout_type)\n",
    "\n",
    "    Xn=[layt[k][0] for k in range(N)]\n",
    "    Yn=[layt[k][1] for k in range(N)]\n",
    "    Xe=[]\n",
    "    Ye=[]\n",
    "    for e in E:\n",
    "        Xe+=[layt[e[0]][0],layt[e[1]][0], None]\n",
    "        Ye+=[layt[e[0]][1],layt[e[1]][1], None]\n",
    "\n",
    "    trace1=plotly.graph_objs.Scatter(x=Xe,\n",
    "                y=Ye,\n",
    "                mode='lines',\n",
    "                line= dict(color='rgb(210,210,210)', width=1),\n",
    "                hoverinfo='none'\n",
    "                )\n",
    "    trace2=plotly.graph_objs.Scatter(x=Xn,\n",
    "                y=Yn,\n",
    "                mode='markers',\n",
    "                name='ntw',\n",
    "                marker=dict(symbol='circle-dot',\n",
    "                                            size=5,\n",
    "                                            color='#6959CD',\n",
    "                                            line=dict(color='rgb(50,50,50)', width=0.5)\n",
    "                                            ),\n",
    "                text=None,\n",
    "                hoverinfo='text'\n",
    "                )\n",
    "\n",
    "    axis=dict(showline=False, # hide axis line, grid, ticklabels and  title\n",
    "            zeroline=False,\n",
    "            showgrid=False,\n",
    "            showticklabels=False,\n",
    "            title=''\n",
    "            )\n",
    "\n",
    "    width=800\n",
    "    height=800\n",
    "    layout=plotly.graph_objs.Layout(title= \"Search Tree\",#+\\\n",
    "                #\"<br> xyz: <a href='https://tuloy.co'> [1]</a>\",\n",
    "        font= dict(size=12),\n",
    "        showlegend=False,\n",
    "        autosize=False,\n",
    "        width=width,\n",
    "        height=height,\n",
    "        xaxis=plotly.graph_objs.layout.XAxis(axis),\n",
    "        yaxis=plotly.graph_objs.layout.YAxis(axis),\n",
    "        margin=plotly.graph_objs.layout.Margin(\n",
    "            l=40,\n",
    "            r=40,\n",
    "            b=85,\n",
    "            t=100,\n",
    "        ),\n",
    "        hovermode='closest',\n",
    "        annotations=[\n",
    "            dict(\n",
    "            showarrow=False,\n",
    "                text=f'{layout_type}',\n",
    "                xref='paper',\n",
    "                yref='paper',\n",
    "                x=0,\n",
    "                y=-0.1,\n",
    "                xanchor='left',\n",
    "                yanchor='bottom',\n",
    "                font=dict(\n",
    "                size=14\n",
    "                )\n",
    "                )\n",
    "            ]\n",
    "        )\n",
    "\n",
    "    data=[trace1, trace2]\n",
    "    fig=plotly.graph_objs.Figure(data=data, layout=layout)\n",
    "    plotly.offline.iplot(fig, filename='igraph-network')"
   ]
  },
  {
   "cell_type": "code",
   "execution_count": null,
   "metadata": {},
   "outputs": [],
   "source": []
  }
 ],
 "metadata": {
  "kernelspec": {
   "display_name": "Python 3.9.10 ('base')",
   "language": "python",
   "name": "python3"
  }
 },
 "nbformat": 4,
 "nbformat_minor": 2
}
